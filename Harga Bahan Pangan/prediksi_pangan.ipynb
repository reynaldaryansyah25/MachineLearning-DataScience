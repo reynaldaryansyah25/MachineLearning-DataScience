{
 "cells": [
  {
   "cell_type": "markdown",
   "metadata": {},
   "source": [
    "# Bawang Merah\n"
   ]
  },
  {
   "cell_type": "code",
   "execution_count": 3,
   "metadata": {},
   "outputs": [
    {
     "name": "stderr",
     "output_type": "stream",
     "text": [
      "c:\\Users\\User\\AppData\\Local\\Programs\\Python\\Python312\\Lib\\site-packages\\statsmodels\\tsa\\base\\tsa_model.py:473: ValueWarning: No frequency information was provided, so inferred frequency D will be used.\n",
      "  self._init_dates(dates, freq)\n"
     ]
    },
    {
     "name": "stdout",
     "output_type": "stream",
     "text": [
      "Optimal Lag Order: 2\n",
      "✅ MAPE pada validation set: 0.0206\n",
      "✅ Submission berhasil dibuat: submissionBawangMerah.csv\n"
     ]
    }
   ],
   "source": [
    "import pandas as pd\n",
    "import numpy as np\n",
    "from statsmodels.tsa.api import VAR\n",
    "from sklearn.metrics import mean_absolute_percentage_error\n",
    "from sklearn.preprocessing import MinMaxScaler\n",
    "from sklearn.model_selection import TimeSeriesSplit\n",
    "\n",
    "# Fungsi untuk memuat data train dan test\n",
    "def load_data(train_path, test_path):\n",
    "    df_train = pd.read_csv(train_path, parse_dates=[\"Date\"], index_col=\"Date\")\n",
    "    df_test = pd.read_csv(test_path, parse_dates=[\"Date\"], index_col=\"Date\")\n",
    "    return df_train, df_test\n",
    "\n",
    "# Fungsi untuk preprocessing data, seperti menginterpolasi missing values\n",
    "def preprocess_data(df_train, df_test):\n",
    "    # Menginterpolasi missing values\n",
    "    df_train.interpolate(method='linear', inplace=True)\n",
    "    df_test.interpolate(method='linear', inplace=True)\n",
    "    \n",
    "    # Menghindari masalah kolom yang hilang\n",
    "    df_test = df_test[df_train.columns]  # Menyusun ulang kolom pada df_test sesuai df_train\n",
    "\n",
    "    # Log transformasi untuk menangani distribusi harga yang long-tail\n",
    "    df_train_log = np.log1p(df_train)  # Log transform\n",
    "    df_test_log = np.log1p(df_test)\n",
    "    \n",
    "    return df_train_log, df_test_log\n",
    "\n",
    "# Fungsi untuk split data menjadi training dan validation\n",
    "def split_train_validation(df_train, split_ratio=0.8):\n",
    "    train_size = int(split_ratio * len(df_train))\n",
    "    return df_train.iloc[:train_size], df_train.iloc[train_size:]\n",
    "\n",
    "# Fungsi untuk melatih model VAR dengan lag optimal\n",
    "def train_var_model(df_train_data, max_lag=15):\n",
    "    model = VAR(df_train_data)\n",
    "    lag_order = model.select_order(maxlags=max_lag).aic  # Pilih lag optimal berdasarkan AIC\n",
    "    print(f\"Optimal Lag Order: {lag_order}\")\n",
    "    model_fitted = model.fit(lag_order)\n",
    "    return model_fitted\n",
    "\n",
    "# Fungsi untuk melakukan evaluasi model pada data validation\n",
    "def forecast_and_evaluate(model_fitted, df_train_data, df_val_data):\n",
    "    lag_order = model_fitted.k_ar\n",
    "    last_values = df_train_data.values[-lag_order:]\n",
    "    pred_val = model_fitted.forecast(last_values, steps=len(df_val_data))\n",
    "    mape = mean_absolute_percentage_error(df_val_data, pred_val)\n",
    "    print(f\"✅ MAPE pada validation set: {mape:.4f}\")\n",
    "\n",
    "# Fungsi untuk melakukan prediksi pada data test\n",
    "def forecast_test(model_fitted, df_train, df_test):\n",
    "    lag_order = model_fitted.k_ar\n",
    "    pred_test = model_fitted.forecast(df_train.values[-lag_order:], steps=len(df_test))\n",
    "    return pd.DataFrame(pred_test, index=df_test.index, columns=df_train.columns)\n",
    "\n",
    "# Fungsi untuk menyimpan hasil prediksi dalam format submission\n",
    "def save_submission(forecast_df, df_train, filename=\"submissionBawangMerah.csv\"):\n",
    "    ordered_provinces = df_train.columns.tolist()\n",
    "    submission_results = []\n",
    "    \n",
    "    for date in forecast_df.index:\n",
    "        for prov in ordered_provinces:\n",
    "            submission_results.append({\n",
    "                \"id\": f\"Bawang Merah/{prov}/{date.date()}\",\n",
    "                \"price\": round(forecast_df.loc[date, prov], 2)\n",
    "            })\n",
    "    \n",
    "    submission_df = pd.DataFrame(submission_results)\n",
    "    submission_df.to_csv(filename, index=False)\n",
    "    print(f\"✅ Submission berhasil dibuat: {filename}\")\n",
    "\n",
    "# Pipeline Execution\n",
    "train_path = \"Harga Bahan Pangan/train/Bawang Merah.csv\"\n",
    "test_path = \"Harga Bahan Pangan/test/Bawang Merah.csv\"\n",
    "\n",
    "df_train, df_test = load_data(train_path, test_path)\n",
    "\n",
    "# Preprocessing data: Log transform dan interpolasi\n",
    "df_train, df_test = preprocess_data(df_train, df_test)\n",
    "\n",
    "# Membagi data menjadi train dan validation set\n",
    "df_train_data, df_val_data = split_train_validation(df_train)\n",
    "\n",
    "# Melatih model VAR\n",
    "model_fitted = train_var_model(df_train_data, max_lag=15)\n",
    "\n",
    "# Evaluasi model menggunakan validation set\n",
    "forecast_and_evaluate(model_fitted, df_train_data, df_val_data)\n",
    "\n",
    "# Melakukan prediksi pada data test\n",
    "forecast_df = forecast_test(model_fitted, df_train, df_test)\n",
    "forecast_df = np.expm1(forecast_df)\n",
    "\n",
    "# Menyimpan hasil prediksi dalam format submission\n",
    "save_submission(forecast_df, df_train)"
   ]
  },
  {
   "cell_type": "markdown",
   "metadata": {},
   "source": [
    "# Bawang Putih Bonggol"
   ]
  },
  {
   "cell_type": "code",
   "execution_count": 4,
   "metadata": {},
   "outputs": [
    {
     "name": "stderr",
     "output_type": "stream",
     "text": [
      "c:\\Users\\User\\AppData\\Local\\Programs\\Python\\Python312\\Lib\\site-packages\\statsmodels\\tsa\\base\\tsa_model.py:473: ValueWarning: No frequency information was provided, so inferred frequency D will be used.\n",
      "  self._init_dates(dates, freq)\n"
     ]
    },
    {
     "name": "stdout",
     "output_type": "stream",
     "text": [
      "Optimal Lag Order: 2\n",
      "✅ MAPE pada validation set: 0.0056\n",
      "✅ Submission berhasil dibuat: submissionBawangPutihBonggol.csv\n"
     ]
    }
   ],
   "source": [
    "def save_submission(forecast_df, df_train, filename=\"submissionBawangPutihBonggol.csv\"):\n",
    "    ordered_provinces = df_train.columns.tolist()\n",
    "    submission_results = []\n",
    "    \n",
    "    for date in forecast_df.index:\n",
    "        for prov in ordered_provinces:\n",
    "            submission_results.append({\n",
    "                \"id\": f\"Bawang Putih Bonggol/{prov}/{date.date()}\",\n",
    "                \"price\": round(forecast_df.loc[date, prov], 2)\n",
    "            })\n",
    "    \n",
    "    submission_df = pd.DataFrame(submission_results)\n",
    "    submission_df.to_csv(filename, index=False)\n",
    "    print(f\"✅ Submission berhasil dibuat: {filename}\")\n",
    "\n",
    "# Pipeline Execution\n",
    "train_path = \"Harga Bahan Pangan/train/Bawang Putih Bonggol.csv\"\n",
    "test_path = \"Harga Bahan Pangan/test/Bawang Putih Bonggol.csv\"\n",
    "\n",
    "df_train, df_test = load_data(train_path, test_path)\n",
    "\n",
    "# Preprocessing data: Log transform dan interpolasi\n",
    "df_train, df_test = preprocess_data(df_train, df_test)\n",
    "\n",
    "# Membagi data menjadi train dan validation set\n",
    "df_train_data, df_val_data = split_train_validation(df_train)\n",
    "\n",
    "# Melatih model VAR\n",
    "model_fitted = train_var_model(df_train_data, max_lag=15)\n",
    "\n",
    "# Evaluasi model menggunakan validation set\n",
    "forecast_and_evaluate(model_fitted, df_train_data, df_val_data)\n",
    "\n",
    "# Melakukan prediksi pada data test\n",
    "forecast_df = forecast_test(model_fitted, df_train, df_test)\n",
    "forecast_df = np.expm1(forecast_df)\n",
    "\n",
    "# Menyimpan hasil prediksi dalam format submission\n",
    "save_submission(forecast_df, df_train)\n"
   ]
  },
  {
   "cell_type": "markdown",
   "metadata": {},
   "source": [
    "# Beras Medium "
   ]
  },
  {
   "cell_type": "code",
   "execution_count": 5,
   "metadata": {},
   "outputs": [
    {
     "name": "stderr",
     "output_type": "stream",
     "text": [
      "c:\\Users\\User\\AppData\\Local\\Programs\\Python\\Python312\\Lib\\site-packages\\statsmodels\\tsa\\base\\tsa_model.py:473: ValueWarning: No frequency information was provided, so inferred frequency D will be used.\n",
      "  self._init_dates(dates, freq)\n"
     ]
    },
    {
     "name": "stdout",
     "output_type": "stream",
     "text": [
      "Optimal Lag Order: 15\n",
      "✅ MAPE pada validation set: 0.0141\n",
      "✅ Submission berhasil dibuat: submissionBerasMedium.csv\n"
     ]
    }
   ],
   "source": [
    "def save_submission(forecast_df, df_train, filename=\"submissionBerasMedium.csv\"):\n",
    "    ordered_provinces = df_train.columns.tolist()\n",
    "    submission_results = []\n",
    "    \n",
    "    for date in forecast_df.index:\n",
    "        for prov in ordered_provinces:\n",
    "            submission_results.append({\n",
    "                \"id\": f\"Beras Medium/{prov}/{date.date()}\",\n",
    "                \"price\": round(forecast_df.loc[date, prov], 2)\n",
    "            })\n",
    "    \n",
    "    submission_df = pd.DataFrame(submission_results)\n",
    "    submission_df.to_csv(filename, index=False)\n",
    "    print(f\"✅ Submission berhasil dibuat: {filename}\")\n",
    "\n",
    "# Pipeline Execution\n",
    "train_path = \"Harga Bahan Pangan/train/Beras Medium.csv\"\n",
    "test_path = \"Harga Bahan Pangan/test/Beras Medium.csv\"\n",
    "\n",
    "df_train, df_test = load_data(train_path, test_path)\n",
    "\n",
    "# Preprocessing data: Log transform dan interpolasi\n",
    "df_train, df_test = preprocess_data(df_train, df_test)\n",
    "\n",
    "# Membagi data menjadi train dan validation set\n",
    "df_train_data, df_val_data = split_train_validation(df_train)\n",
    "\n",
    "# Melatih model VAR\n",
    "model_fitted = train_var_model(df_train_data, max_lag=15)\n",
    "\n",
    "# Evaluasi model menggunakan validation set\n",
    "forecast_and_evaluate(model_fitted, df_train_data, df_val_data)\n",
    "\n",
    "# Melakukan prediksi pada data test\n",
    "forecast_df = forecast_test(model_fitted, df_train, df_test)\n",
    "forecast_df = np.expm1(forecast_df)\n",
    "\n",
    "# Menyimpan hasil prediksi dalam format submission\n",
    "save_submission(forecast_df, df_train)\n"
   ]
  },
  {
   "cell_type": "markdown",
   "metadata": {},
   "source": [
    "# Beras Premium"
   ]
  },
  {
   "cell_type": "code",
   "execution_count": 6,
   "metadata": {},
   "outputs": [
    {
     "name": "stderr",
     "output_type": "stream",
     "text": [
      "c:\\Users\\User\\AppData\\Local\\Programs\\Python\\Python312\\Lib\\site-packages\\statsmodels\\tsa\\base\\tsa_model.py:473: ValueWarning: No frequency information was provided, so inferred frequency D will be used.\n",
      "  self._init_dates(dates, freq)\n"
     ]
    },
    {
     "name": "stdout",
     "output_type": "stream",
     "text": [
      "Optimal Lag Order: 15\n",
      "✅ MAPE pada validation set: 0.0119\n",
      "✅ Submission berhasil dibuat: submissionBerasPremium.csv\n"
     ]
    }
   ],
   "source": [
    "def save_submission(forecast_df, df_train, filename=\"submissionBerasPremium.csv\"):\n",
    "    ordered_provinces = df_train.columns.tolist()\n",
    "    submission_results = []\n",
    "    \n",
    "    for date in forecast_df.index:\n",
    "        for prov in ordered_provinces:\n",
    "            submission_results.append({\n",
    "                \"id\": f\"Beras Premium/{prov}/{date.date()}\",\n",
    "                \"price\": round(forecast_df.loc[date, prov], 2)\n",
    "            })\n",
    "    \n",
    "    submission_df = pd.DataFrame(submission_results)\n",
    "    submission_df.to_csv(filename, index=False)\n",
    "    print(f\"✅ Submission berhasil dibuat: {filename}\")\n",
    "\n",
    "# Pipeline Execution\n",
    "train_path = \"Harga Bahan Pangan/train/Beras Premium.csv\"\n",
    "test_path = \"Harga Bahan Pangan/test/Beras Premium.csv\"\n",
    "\n",
    "df_train, df_test = load_data(train_path, test_path)\n",
    "\n",
    "# Preprocessing data: Log transform dan interpolasi\n",
    "df_train, df_test = preprocess_data(df_train, df_test)\n",
    "\n",
    "# Membagi data menjadi train dan validation set\n",
    "df_train_data, df_val_data = split_train_validation(df_train)\n",
    "\n",
    "# Melatih model VAR\n",
    "model_fitted = train_var_model(df_train_data, max_lag=15)\n",
    "\n",
    "# Evaluasi model menggunakan validation set\n",
    "forecast_and_evaluate(model_fitted, df_train_data, df_val_data)\n",
    "\n",
    "# Melakukan prediksi pada data test\n",
    "forecast_df = forecast_test(model_fitted, df_train, df_test)\n",
    "forecast_df = np.expm1(forecast_df)\n",
    "\n",
    "# Menyimpan hasil prediksi dalam format submission\n",
    "save_submission(forecast_df, df_train)"
   ]
  },
  {
   "cell_type": "markdown",
   "metadata": {},
   "source": [
    "# Cabai Merah Keriting"
   ]
  },
  {
   "cell_type": "code",
   "execution_count": 7,
   "metadata": {},
   "outputs": [
    {
     "name": "stderr",
     "output_type": "stream",
     "text": [
      "c:\\Users\\User\\AppData\\Local\\Programs\\Python\\Python312\\Lib\\site-packages\\statsmodels\\tsa\\base\\tsa_model.py:473: ValueWarning: No frequency information was provided, so inferred frequency D will be used.\n",
      "  self._init_dates(dates, freq)\n"
     ]
    },
    {
     "name": "stdout",
     "output_type": "stream",
     "text": [
      "Optimal Lag Order: 15\n",
      "✅ MAPE pada validation set: 0.0239\n",
      "✅ Submission berhasil dibuat: submissionCabaiMerahKeriting.csv\n"
     ]
    }
   ],
   "source": [
    "def save_submission(forecast_df, df_train, filename=\"submissionCabaiMerahKeriting.csv\"):\n",
    "    ordered_provinces = df_train.columns.tolist()\n",
    "    submission_results = []\n",
    "    \n",
    "    for date in forecast_df.index:\n",
    "        for prov in ordered_provinces:\n",
    "            submission_results.append({\n",
    "                \"id\": f\"Cabai Merah Keriting/{prov}/{date.date()}\",\n",
    "                \"price\": round(forecast_df.loc[date, prov], 2)\n",
    "            })\n",
    "    \n",
    "    submission_df = pd.DataFrame(submission_results)\n",
    "    submission_df.to_csv(filename, index=False)\n",
    "    print(f\"✅ Submission berhasil dibuat: {filename}\")\n",
    "\n",
    "# Pipeline Execution\n",
    "train_path = \"Harga Bahan Pangan/train/Cabai Merah Keriting.csv\"\n",
    "test_path = \"Harga Bahan Pangan/test/Cabai Merah Keriting.csv\"\n",
    "\n",
    "df_train, df_test = load_data(train_path, test_path)\n",
    "\n",
    "# Preprocessing data: Log transform dan interpolasi\n",
    "df_train, df_test = preprocess_data(df_train, df_test)\n",
    "\n",
    "# Membagi data menjadi train dan validation set\n",
    "df_train_data, df_val_data = split_train_validation(df_train)\n",
    "\n",
    "# Melatih model VAR\n",
    "model_fitted = train_var_model(df_train_data, max_lag=15)\n",
    "\n",
    "# Evaluasi model menggunakan validation set\n",
    "forecast_and_evaluate(model_fitted, df_train_data, df_val_data)\n",
    "\n",
    "# Melakukan prediksi pada data test\n",
    "forecast_df = forecast_test(model_fitted, df_train, df_test)\n",
    "forecast_df = np.expm1(forecast_df)\n",
    "\n",
    "# Menyimpan hasil prediksi dalam format submission\n",
    "save_submission(forecast_df, df_train)"
   ]
  },
  {
   "cell_type": "markdown",
   "metadata": {},
   "source": [
    "# Cabai Rawit Merah"
   ]
  },
  {
   "cell_type": "code",
   "execution_count": 8,
   "metadata": {},
   "outputs": [
    {
     "name": "stderr",
     "output_type": "stream",
     "text": [
      "c:\\Users\\User\\AppData\\Local\\Programs\\Python\\Python312\\Lib\\site-packages\\statsmodels\\tsa\\base\\tsa_model.py:473: ValueWarning: No frequency information was provided, so inferred frequency D will be used.\n",
      "  self._init_dates(dates, freq)\n"
     ]
    },
    {
     "name": "stdout",
     "output_type": "stream",
     "text": [
      "Optimal Lag Order: 15\n",
      "✅ MAPE pada validation set: 0.0274\n",
      "✅ Submission berhasil dibuat: submissionCabaiRawitMerah.csv\n"
     ]
    }
   ],
   "source": [
    "from sklearn.impute import KNNImputer\n",
    "# Pipeline Execution\n",
    "train_path = \"Harga Bahan Pangan/train/Cabai Rawit Merah.csv\"\n",
    "test_path = \"Harga Bahan Pangan/test/Cabai Rawit Merah.csv\"\n",
    "\n",
    "df_train, df_test = load_data(train_path, test_path)\n",
    "\n",
    "# **🔹 Tangani missing value ekstrem hanya untuk Cabai Rawit Merah**\n",
    "imputer = KNNImputer(n_neighbors=5)\n",
    "df_train_imputed = pd.DataFrame(imputer.fit_transform(df_train), columns=df_train.columns)\n",
    "df_test_imputed = pd.DataFrame(imputer.transform(df_test), columns=df_test.columns)\n",
    "\n",
    "    # Pastikan tidak ada NaN atau Inf setelah imputasi\n",
    "df_train_imputed.replace([np.inf, -np.inf], np.nan, inplace=True)\n",
    "df_test_imputed.replace([np.inf, -np.inf], np.nan, inplace=True)\n",
    "\n",
    "df_train.fillna(df_train.median(), inplace=True)\n",
    "df_test.fillna(df_test.median(), inplace=True)\n",
    "\n",
    "# **Cek apakah masih ada missing values**\n",
    "if df_train.isnull().sum().sum() > 0 or df_test.isnull().sum().sum() > 0:\n",
    "    print(\"⚠️ Warning: Masih ada missing values setelah preprocessing!\")\n",
    "    \n",
    "def save_submission(forecast_df, df_train, filename=\"submissionCabaiRawitMerah.csv\"):\n",
    "    ordered_provinces = df_train.columns.tolist()\n",
    "    submission_results = []\n",
    "    \n",
    "    for date in forecast_df.index:\n",
    "        for prov in ordered_provinces:\n",
    "            submission_results.append({\n",
    "                \"id\": f\"Cabai Rawit Merah/{prov}/{date.date()}\",\n",
    "                \"price\": round(forecast_df.loc[date, prov], 2)\n",
    "            })\n",
    "    \n",
    "    submission_df = pd.DataFrame(submission_results)\n",
    "    submission_df.to_csv(filename, index=False)\n",
    "    print(f\"✅ Submission berhasil dibuat: {filename}\")\n",
    "    \n",
    "    df_train, df_test = load_data(train_path, test_path)\n",
    "\n",
    "# Preprocessing data: Log transform dan interpolasi\n",
    "df_train, df_test = preprocess_data(df_train, df_test)\n",
    "\n",
    "# Membagi data menjadi train dan validation set\n",
    "df_train_data, df_val_data = split_train_validation(df_train)\n",
    "\n",
    "# Melatih model VAR\n",
    "model_fitted = train_var_model(df_train_data, max_lag=15)\n",
    "\n",
    "# Evaluasi model menggunakan validation set\n",
    "forecast_and_evaluate(model_fitted, df_train_data, df_val_data)\n",
    "\n",
    "# Melakukan prediksi pada data test\n",
    "forecast_df = forecast_test(model_fitted, df_train, df_test)\n",
    "forecast_df = np.expm1(forecast_df)\n",
    "\n",
    "# Menyimpan hasil prediksi dalam format submission\n",
    "save_submission(forecast_df, df_train)"
   ]
  },
  {
   "cell_type": "markdown",
   "metadata": {},
   "source": [
    "# Daging Ayam Ras"
   ]
  },
  {
   "cell_type": "code",
   "execution_count": 9,
   "metadata": {},
   "outputs": [
    {
     "name": "stderr",
     "output_type": "stream",
     "text": [
      "c:\\Users\\User\\AppData\\Local\\Programs\\Python\\Python312\\Lib\\site-packages\\statsmodels\\tsa\\base\\tsa_model.py:473: ValueWarning: No frequency information was provided, so inferred frequency D will be used.\n",
      "  self._init_dates(dates, freq)\n"
     ]
    },
    {
     "name": "stdout",
     "output_type": "stream",
     "text": [
      "Optimal Lag Order: 15\n",
      "✅ MAPE pada validation set: 0.0101\n",
      "✅ Submission berhasil dibuat: submissionDagingAyamRas.csv\n"
     ]
    }
   ],
   "source": [
    "def save_submission(forecast_df, df_train, filename=\"submissionDagingAyamRas.csv\"):\n",
    "    ordered_provinces = df_train.columns.tolist()\n",
    "    submission_results = []\n",
    "    \n",
    "    for date in forecast_df.index:\n",
    "        for prov in ordered_provinces:\n",
    "            submission_results.append({\n",
    "                \"id\": f\"Daging Ayam Ras/{prov}/{date.date()}\",\n",
    "                \"price\": round(forecast_df.loc[date, prov], 2)\n",
    "            })\n",
    "    \n",
    "    submission_df = pd.DataFrame(submission_results)\n",
    "    submission_df.to_csv(filename, index=False)\n",
    "    print(f\"✅ Submission berhasil dibuat: {filename}\")\n",
    "\n",
    "# Pipeline Execution\n",
    "train_path = \"Harga Bahan Pangan/train/Daging Ayam Ras.csv\"\n",
    "test_path = \"Harga Bahan Pangan/test/Daging Ayam Ras.csv\"\n",
    "\n",
    "df_train, df_test = load_data(train_path, test_path)\n",
    "\n",
    "# Preprocessing data: Log transform dan interpolasi\n",
    "df_train, df_test = preprocess_data(df_train, df_test)\n",
    "\n",
    "# Membagi data menjadi train dan validation set\n",
    "df_train_data, df_val_data = split_train_validation(df_train)\n",
    "\n",
    "# Melatih model VAR\n",
    "model_fitted = train_var_model(df_train_data, max_lag=15)\n",
    "\n",
    "# Evaluasi model menggunakan validation set\n",
    "forecast_and_evaluate(model_fitted, df_train_data, df_val_data)\n",
    "\n",
    "# Melakukan prediksi pada data test\n",
    "forecast_df = forecast_test(model_fitted, df_train, df_test)\n",
    "forecast_df = np.expm1(forecast_df)\n",
    "\n",
    "# Menyimpan hasil prediksi dalam format submission\n",
    "save_submission(forecast_df, df_train)"
   ]
  },
  {
   "cell_type": "markdown",
   "metadata": {},
   "source": [
    "# Daging Sapi Murni"
   ]
  },
  {
   "cell_type": "code",
   "execution_count": 10,
   "metadata": {},
   "outputs": [
    {
     "name": "stderr",
     "output_type": "stream",
     "text": [
      "c:\\Users\\User\\AppData\\Local\\Programs\\Python\\Python312\\Lib\\site-packages\\statsmodels\\tsa\\base\\tsa_model.py:473: ValueWarning: No frequency information was provided, so inferred frequency D will be used.\n",
      "  self._init_dates(dates, freq)\n"
     ]
    },
    {
     "name": "stdout",
     "output_type": "stream",
     "text": [
      "Optimal Lag Order: 15\n",
      "✅ MAPE pada validation set: 0.0026\n",
      "✅ Submission berhasil dibuat: submissionDagingSapiMurni.csv\n"
     ]
    }
   ],
   "source": [
    "def save_submission(forecast_df, df_train, filename=\"submissionDagingSapiMurni.csv\"):\n",
    "    ordered_provinces = df_train.columns.tolist()\n",
    "    submission_results = []\n",
    "    \n",
    "    for date in forecast_df.index:\n",
    "        for prov in ordered_provinces:\n",
    "            submission_results.append({\n",
    "                \"id\": f\"Daging Sapi Murni/{prov}/{date.date()}\",\n",
    "                \"price\": round(forecast_df.loc[date, prov], 2)\n",
    "            })\n",
    "    \n",
    "    submission_df = pd.DataFrame(submission_results)\n",
    "    submission_df.to_csv(filename, index=False)\n",
    "    print(f\"✅ Submission berhasil dibuat: {filename}\")\n",
    "\n",
    "# Pipeline Execution\n",
    "train_path = \"Harga Bahan Pangan/train/Daging Sapi Murni.csv\"\n",
    "test_path = \"Harga Bahan Pangan/test/Daging Sapi Murni.csv\"\n",
    "\n",
    "df_train, df_test = load_data(train_path, test_path)\n",
    "\n",
    "# Preprocessing data: Log transform dan interpolasi\n",
    "df_train, df_test = preprocess_data(df_train, df_test)\n",
    "\n",
    "# Membagi data menjadi train dan validation set\n",
    "df_train_data, df_val_data = split_train_validation(df_train)\n",
    "\n",
    "# Melatih model VAR\n",
    "model_fitted = train_var_model(df_train_data, max_lag=15)\n",
    "\n",
    "# Evaluasi model menggunakan validation set\n",
    "forecast_and_evaluate(model_fitted, df_train_data, df_val_data)\n",
    "\n",
    "# Melakukan prediksi pada data test\n",
    "forecast_df = forecast_test(model_fitted, df_train, df_test)\n",
    "forecast_df = np.expm1(forecast_df)\n",
    "\n",
    "# Menyimpan hasil prediksi dalam format submission\n",
    "save_submission(forecast_df, df_train)"
   ]
  },
  {
   "cell_type": "markdown",
   "metadata": {},
   "source": [
    "# Gula Konsumsi"
   ]
  },
  {
   "cell_type": "code",
   "execution_count": 11,
   "metadata": {},
   "outputs": [
    {
     "name": "stderr",
     "output_type": "stream",
     "text": [
      "c:\\Users\\User\\AppData\\Local\\Programs\\Python\\Python312\\Lib\\site-packages\\statsmodels\\tsa\\base\\tsa_model.py:473: ValueWarning: No frequency information was provided, so inferred frequency D will be used.\n",
      "  self._init_dates(dates, freq)\n"
     ]
    },
    {
     "name": "stdout",
     "output_type": "stream",
     "text": [
      "Optimal Lag Order: 15\n",
      "✅ MAPE pada validation set: 0.0110\n",
      "✅ Submission berhasil dibuat: submissionGulaKonsumsi.csv\n"
     ]
    }
   ],
   "source": [
    "def save_submission(forecast_df, df_train, filename=\"submissionGulaKonsumsi.csv\"):\n",
    "    ordered_provinces = df_train.columns.tolist()\n",
    "    submission_results = []\n",
    "    \n",
    "    for date in forecast_df.index:\n",
    "        for prov in ordered_provinces:\n",
    "            submission_results.append({\n",
    "                \"id\": f\"Gula Konsumsi/{prov}/{date.date()}\",\n",
    "                \"price\": round(forecast_df.loc[date, prov], 2)\n",
    "            })\n",
    "    \n",
    "    submission_df = pd.DataFrame(submission_results)\n",
    "    submission_df.to_csv(filename, index=False)\n",
    "    print(f\"✅ Submission berhasil dibuat: {filename}\")\n",
    "\n",
    "# Pipeline Execution\n",
    "train_path = \"Harga Bahan Pangan/train/Gula Konsumsi.csv\"\n",
    "test_path = \"Harga Bahan Pangan/test/Gula Konsumsi.csv\"\n",
    "\n",
    "df_train, df_test = load_data(train_path, test_path)\n",
    "\n",
    "# Preprocessing data: Log transform dan interpolasi\n",
    "df_train, df_test = preprocess_data(df_train, df_test)\n",
    "\n",
    "# Membagi data menjadi train dan validation set\n",
    "df_train_data, df_val_data = split_train_validation(df_train)\n",
    "\n",
    "# Melatih model VAR\n",
    "model_fitted = train_var_model(df_train_data, max_lag=15)\n",
    "\n",
    "# Evaluasi model menggunakan validation set\n",
    "forecast_and_evaluate(model_fitted, df_train_data, df_val_data)\n",
    "\n",
    "# Melakukan prediksi pada data test\n",
    "forecast_df = forecast_test(model_fitted, df_train, df_test)\n",
    "forecast_df = np.expm1(forecast_df)\n",
    "\n",
    "# Menyimpan hasil prediksi dalam format submission\n",
    "save_submission(forecast_df, df_train)"
   ]
  },
  {
   "cell_type": "markdown",
   "metadata": {},
   "source": [
    "# Minyak Goreng Curah"
   ]
  },
  {
   "cell_type": "code",
   "execution_count": null,
   "metadata": {},
   "outputs": [],
   "source": [
    "## coba nganu missing value pake knn\n",
    "\n",
    "from sklearn.impute import KNNImputer\n",
    "\n",
    "def save_submission(forecast_df, df_train, filename=\"submissionMinyakGorengCurah.csv\"):\n",
    "    ordered_provinces = df_train.columns.tolist()\n",
    "    submission_results = []\n",
    "\n",
    "    for date in forecast_df.index:\n",
    "        for prov in ordered_provinces:\n",
    "            submission_results.append({\n",
    "                \"id\": f\"Minyak Goreng Curah/{prov}/{date.date()}\",\n",
    "                \"price\": round(forecast_df.loc[date, prov], 2)\n",
    "            })\n",
    "\n",
    "    submission_df = pd.DataFrame(submission_results)\n",
    "    submission_df.to_csv(filename, index=False)\n",
    "    print(f\"Submission berhasil dibuat: {filename}\")\n",
    "\n",
    "# Pipeline Execution\n",
    "train_path = \"Harga Bahan Pangan/train/Minyak Goreng Curah.csv\"\n",
    "test_path = \"Harga Bahan Pangan/test/Minyak Goreng Curah.csv\"\n",
    "\n",
    "df_train, df_test = load_data(train_path, test_path)\n",
    "\n",
    "# **Tangani missing value menggunakan KNN Imputer**\n",
    "knn_imputer = KNNImputer(n_neighbors=5, weights=\"uniform\")  \n",
    "df_train[:] = knn_imputer.fit_transform(df_train)\n",
    "df_test[:] = knn_imputer.transform(df_test)\n",
    "\n",
    "# **Cek apakah masih ada missing values**\n",
    "if df_train.isnull().sum().sum() > 0 or df_test.isnull().sum().sum() > 0:\n",
    "    print(\"Warning: Masih ada missing values setelah preprocessing!\")\n",
    "\n",
    "df_train, df_test = preprocess_data(df_train, df_test)\n",
    "df_train_data, df_val_data = split_train_validation(df_train)\n",
    "\n",
    "model_fitted = train_var_model(df_train_data)\n",
    "forecast_and_evaluate(model_fitted, df_train_data, df_val_data)\n",
    "\n",
    "forecast_df = forecast_test(model_fitted, df_train, df_test)\n",
    "save_submission(forecast_df, df_train)"
   ]
  },
  {
   "cell_type": "markdown",
   "metadata": {},
   "source": [
    "# Minyak Gireng Kemasan Sederhana"
   ]
  },
  {
   "cell_type": "code",
   "execution_count": 12,
   "metadata": {},
   "outputs": [
    {
     "name": "stderr",
     "output_type": "stream",
     "text": [
      "c:\\Users\\User\\AppData\\Local\\Programs\\Python\\Python312\\Lib\\site-packages\\statsmodels\\tsa\\base\\tsa_model.py:473: ValueWarning: No frequency information was provided, so inferred frequency D will be used.\n",
      "  self._init_dates(dates, freq)\n"
     ]
    },
    {
     "name": "stdout",
     "output_type": "stream",
     "text": [
      "Optimal Lag Order: 15\n",
      "✅ MAPE pada validation set: 0.0086\n",
      "✅ Submission berhasil dibuat: submissionMinyakGorengKemasanSederhana.csv\n"
     ]
    }
   ],
   "source": [
    "def save_submission(forecast_df, df_train, filename=\"submissionMinyakGorengKemasanSederhana.csv\"):\n",
    "    ordered_provinces = df_train.columns.tolist()\n",
    "    submission_results = []\n",
    "    \n",
    "    for date in forecast_df.index:\n",
    "        for prov in ordered_provinces:\n",
    "            submission_results.append({\n",
    "                \"id\": f\"Minyak Goreng Kemasan Sederhana/{prov}/{date.date()}\",\n",
    "                \"price\": round(forecast_df.loc[date, prov], 2)\n",
    "            })\n",
    "    \n",
    "    submission_df = pd.DataFrame(submission_results)\n",
    "    submission_df.to_csv(filename, index=False)\n",
    "    print(f\"✅ Submission berhasil dibuat: {filename}\")\n",
    "\n",
    "# Pipeline Execution\n",
    "train_path = \"Harga Bahan Pangan/train/Minyak Goreng Kemasan Sederhana.csv\"\n",
    "test_path = \"Harga Bahan Pangan/test/Minyak Goreng Kemasan Sederhana.csv\"\n",
    "\n",
    "df_train, df_test = load_data(train_path, test_path)\n",
    "\n",
    "# Preprocessing data: Log transform dan interpolasi\n",
    "df_train, df_test = preprocess_data(df_train, df_test)\n",
    "\n",
    "# Membagi data menjadi train dan validation set\n",
    "df_train_data, df_val_data = split_train_validation(df_train)\n",
    "\n",
    "# Melatih model VAR\n",
    "model_fitted = train_var_model(df_train_data, max_lag=15)\n",
    "\n",
    "# Evaluasi model menggunakan validation set\n",
    "forecast_and_evaluate(model_fitted, df_train_data, df_val_data)\n",
    "\n",
    "# Melakukan prediksi pada data test\n",
    "forecast_df = forecast_test(model_fitted, df_train, df_test)\n",
    "forecast_df = np.expm1(forecast_df)\n",
    "\n",
    "# Menyimpan hasil prediksi dalam format submission\n",
    "save_submission(forecast_df, df_train)"
   ]
  },
  {
   "cell_type": "markdown",
   "metadata": {},
   "source": [
    "# Telur Ayam Ras"
   ]
  },
  {
   "cell_type": "code",
   "execution_count": 13,
   "metadata": {},
   "outputs": [
    {
     "name": "stderr",
     "output_type": "stream",
     "text": [
      "c:\\Users\\User\\AppData\\Local\\Programs\\Python\\Python312\\Lib\\site-packages\\statsmodels\\tsa\\base\\tsa_model.py:473: ValueWarning: No frequency information was provided, so inferred frequency D will be used.\n",
      "  self._init_dates(dates, freq)\n"
     ]
    },
    {
     "name": "stdout",
     "output_type": "stream",
     "text": [
      "Optimal Lag Order: 15\n",
      "✅ MAPE pada validation set: 0.0049\n",
      "✅ Submission berhasil dibuat: submissionMinyakTelurAyamRas.csv\n"
     ]
    }
   ],
   "source": [
    "def save_submission(forecast_df, df_train, filename=\"submissionMinyakTelurAyamRas.csv\"):\n",
    "    ordered_provinces = df_train.columns.tolist()\n",
    "    submission_results = []\n",
    "    \n",
    "    for date in forecast_df.index:\n",
    "        for prov in ordered_provinces:\n",
    "            submission_results.append({\n",
    "                \"id\": f\"Telur Ayam Ras/{prov}/{date.date()}\",\n",
    "                \"price\": round(forecast_df.loc[date, prov], 2)\n",
    "            })\n",
    "    \n",
    "    submission_df = pd.DataFrame(submission_results)\n",
    "    submission_df.to_csv(filename, index=False)\n",
    "    print(f\"✅ Submission berhasil dibuat: {filename}\")\n",
    "\n",
    "# Pipeline Execution\n",
    "train_path = \"Harga Bahan Pangan/train/Telur Ayam Ras.csv\"\n",
    "test_path = \"Harga Bahan Pangan/test/Telur Ayam Ras.csv\"\n",
    "\n",
    "df_train, df_test = load_data(train_path, test_path)\n",
    "\n",
    "# Preprocessing data: Log transform dan interpolasi\n",
    "df_train, df_test = preprocess_data(df_train, df_test)\n",
    "\n",
    "# Membagi data menjadi train dan validation set\n",
    "df_train_data, df_val_data = split_train_validation(df_train)\n",
    "\n",
    "# Melatih model VAR\n",
    "model_fitted = train_var_model(df_train_data, max_lag=15)\n",
    "\n",
    "# Evaluasi model menggunakan validation set\n",
    "forecast_and_evaluate(model_fitted, df_train_data, df_val_data)\n",
    "\n",
    "# Melakukan prediksi pada data test\n",
    "forecast_df = forecast_test(model_fitted, df_train, df_test)\n",
    "forecast_df = np.expm1(forecast_df)\n",
    "\n",
    "# Menyimpan hasil prediksi dalam format submission\n",
    "save_submission(forecast_df, df_train)"
   ]
  },
  {
   "cell_type": "markdown",
   "metadata": {},
   "source": [
    "# Tepung Terigu"
   ]
  },
  {
   "cell_type": "code",
   "execution_count": 14,
   "metadata": {},
   "outputs": [
    {
     "name": "stderr",
     "output_type": "stream",
     "text": [
      "c:\\Users\\User\\AppData\\Local\\Programs\\Python\\Python312\\Lib\\site-packages\\statsmodels\\tsa\\base\\tsa_model.py:473: ValueWarning: No frequency information was provided, so inferred frequency D will be used.\n",
      "  self._init_dates(dates, freq)\n"
     ]
    },
    {
     "name": "stdout",
     "output_type": "stream",
     "text": [
      "Optimal Lag Order: 15\n",
      "✅ MAPE pada validation set: 0.0052\n",
      "✅ Submission berhasil dibuat: submissionMinyakTepungTerigu(Curah).csv\n"
     ]
    }
   ],
   "source": [
    "def save_submission(forecast_df, df_train, filename=\"submissionMinyakTepungTerigu(Curah).csv\"):\n",
    "    ordered_provinces = df_train.columns.tolist()\n",
    "    submission_results = []\n",
    "    \n",
    "    for date in forecast_df.index:\n",
    "        for prov in ordered_provinces:\n",
    "            submission_results.append({\n",
    "                \"id\": f\"Tepung Terigu (Curah)/{prov}/{date.date()}\",\n",
    "                \"price\": round(forecast_df.loc[date, prov], 2)\n",
    "            })\n",
    "    \n",
    "    submission_df = pd.DataFrame(submission_results)\n",
    "    submission_df.to_csv(filename, index=False)\n",
    "    print(f\"✅ Submission berhasil dibuat: {filename}\")\n",
    "\n",
    "# Pipeline Execution\n",
    "train_path = \"Harga Bahan Pangan/train/Tepung Terigu (Curah).csv\"\n",
    "test_path = \"Harga Bahan Pangan/test/Tepung Terigu (Curah).csv\"\n",
    "\n",
    "df_train, df_test = load_data(train_path, test_path)\n",
    "\n",
    "# Preprocessing data: Log transform dan interpolasi\n",
    "df_train, df_test = preprocess_data(df_train, df_test)\n",
    "\n",
    "# Membagi data menjadi train dan validation set\n",
    "df_train_data, df_val_data = split_train_validation(df_train)\n",
    "\n",
    "# Melatih model VAR\n",
    "model_fitted = train_var_model(df_train_data, max_lag=15)\n",
    "\n",
    "# Evaluasi model menggunakan validation set\n",
    "forecast_and_evaluate(model_fitted, df_train_data, df_val_data)\n",
    "\n",
    "# Melakukan prediksi pada data test\n",
    "forecast_df = forecast_test(model_fitted, df_train, df_test)\n",
    "forecast_df = np.expm1(forecast_df)\n",
    "\n",
    "# Menyimpan hasil prediksi dalam format submission\n",
    "save_submission(forecast_df, df_train)"
   ]
  },
  {
   "cell_type": "code",
   "execution_count": 15,
   "metadata": {},
   "outputs": [
    {
     "name": "stdout",
     "output_type": "stream",
     "text": [
      "MAPE Keseluruhan: 0.52%\n"
     ]
    }
   ],
   "source": [
    "import numpy as np\n",
    "\n",
    "def mean_absolute_percentage_error(y_true, y_pred):\n",
    "    y_true, y_pred = np.array(y_true), np.array(y_pred)\n",
    "    return np.mean(np.abs((y_true - y_pred) / y_true)) * 100\n",
    "\n",
    "# Pastikan df_val_data dan hasil prediksi sudah tersedia\n",
    "y_true = df_val_data.values  # Data aktual\n",
    "y_pred = model_fitted.forecast(df_train_data.values, steps=len(df_val_data))  # Prediksi\n",
    "\n",
    "# Hitung MAPE untuk keseluruhan data\n",
    "mape_score = mean_absolute_percentage_error(y_true, y_pred)\n",
    "\n",
    "print(f\"MAPE Keseluruhan: {mape_score:.2f}%\")"
   ]
  },
  {
   "cell_type": "code",
   "execution_count": 17,
   "metadata": {},
   "outputs": [
    {
     "name": "stdout",
     "output_type": "stream",
     "text": [
      "Semua file CSV berhasil digabungkan menjadi 'submission_Final.1.csv'\n"
     ]
    }
   ],
   "source": [
    "import os\n",
    "import pandas as pd\n",
    "\n",
    "# Path folder tempat semua file submission disimpan\n",
    "folder_path = \"1submit\"  # Ganti dengan path yang sesuai\n",
    "\n",
    "# List semua file CSV dalam folder\n",
    "csv_files = [f for f in os.listdir(folder_path) if f.endswith(\".csv\")]\n",
    "\n",
    "# List untuk menyimpan data dari semua file\n",
    "dataframes = []\n",
    "\n",
    "# Loop melalui setiap file CSV dan baca ke dalam pandas\n",
    "for file in csv_files:\n",
    "    file_path = os.path.join(folder_path, file)\n",
    "    df = pd.read_csv(file_path)\n",
    "    dataframes.append(df)\n",
    "\n",
    "# Gabungkan semua DataFrame menjadi satu\n",
    "merged_df = pd.concat(dataframes, ignore_index=True)\n",
    "\n",
    "# Simpan ke file CSV baru\n",
    "merged_df.to_csv(os.path.join(folder_path, \"submission_Final.1.csv\"), index=False)\n",
    "\n",
    "print(\"Semua file CSV berhasil digabungkan menjadi 'submission_Final.1.csv'\")\n"
   ]
  },
  {
   "cell_type": "code",
   "execution_count": 18,
   "metadata": {},
   "outputs": [
    {
     "data": {
      "text/plain": [
       "0"
      ]
     },
     "execution_count": 18,
     "metadata": {},
     "output_type": "execute_result"
    }
   ],
   "source": [
    "sub = pd.read_csv(\"1submit/submission_Final.1.csv\")\n",
    "sub.duplicated().sum()"
   ]
  }
 ],
 "metadata": {
  "kernelspec": {
   "display_name": "Python 3",
   "language": "python",
   "name": "python3"
  },
  "language_info": {
   "codemirror_mode": {
    "name": "ipython",
    "version": 3
   },
   "file_extension": ".py",
   "mimetype": "text/x-python",
   "name": "python",
   "nbconvert_exporter": "python",
   "pygments_lexer": "ipython3",
   "version": "3.12.5"
  }
 },
 "nbformat": 4,
 "nbformat_minor": 2
}
